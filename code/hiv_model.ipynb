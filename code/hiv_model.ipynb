{
 "cells": [
  {
   "cell_type": "markdown",
   "metadata": {},
   "source": [
    "# Hiv Model\n",
    "\n",
    "Mellie Zito"
   ]
  },
  {
   "cell_type": "code",
   "execution_count": 1,
   "metadata": {},
   "outputs": [],
   "source": [
    "# Configure Jupyter so figures appear in the notebook\n",
    "%matplotlib inline\n",
    "\n",
    "# Configure Jupyter to display the assigned value after an assignment\n",
    "%config InteractiveShell.ast_node_interactivity='last_expr_or_assign'\n",
    "\n",
    "# import functions from the modsim.py module\n",
    "from modsim import *"
   ]
  },
  {
   "cell_type": "code",
   "execution_count": 2,
   "metadata": {},
   "outputs": [
    {
     "data": {
      "text/plain": [
       "'Greek Alphabet:\\nΑ α, Β β, Γ γ, Δ δ, Ε ε, Ζ ζ, Η η, Θ θ, Ι ι, Κ κ, \\nΛ λ, Μ μ, Ν ν, Ξ ξ, Ο ο, Π π, Ρ ρ, \\nΣ σ/ς, Τ τ, Υ υ, Φ φ, \\nΧ χ, Ψ ψ, and Ω ω.\\n'"
      ]
     },
     "execution_count": 2,
     "metadata": {},
     "output_type": "execute_result"
    }
   ],
   "source": [
    "'''Greek Alphabet:\n",
    "Α α, Β β, Γ γ, Δ δ, Ε ε, Ζ ζ, Η η, Θ θ, Ι ι, Κ κ, \n",
    "Λ λ, Μ μ, Ν ν, Ξ ξ, Ο ο, Π π, Ρ ρ, \n",
    "Σ σ/ς, Τ τ, Υ υ, Φ φ, \n",
    "Χ χ, Ψ ψ, and Ω ω.\n",
    "'''"
   ]
  },
  {
   "cell_type": "code",
   "execution_count": 3,
   "metadata": {},
   "outputs": [],
   "source": [
    "def make_system(Γ, τ, μ, β, ρ, α, δ, σ, π):\n",
    "    \"\"\"Make a system object for the SIR model.\n",
    "    R is lymphocytes\n",
    "    L is latently infected cells\n",
    "    E is actively infected cells\n",
    "    V is free virions\n",
    "    \n",
    "    Γ is the rate at which new, uninfected lymphocytes (R) arise\n",
    "    τ is the proportion of uninfected lymphocytes (R) that are activated\n",
    "    μ is the rate uninfected lymphocytes (R) are removed by HIV-independent death\n",
    "    β is the rate of infection (lymphocytes to virions)\n",
    "    ρ is the proportion of cells that become latently infected (L)\n",
    "    α is the rate of removal of latently infected cells (L) by activation\n",
    "    δ is the rate of death of actively infected cells (E)\n",
    "    σ is the rate of removal of free virions (V)\n",
    "    π is rate of production of virions (V) by an actively infected cell (E)\n",
    "    \n",
    "    returns: System object\n",
    "    \"\"\"\n",
    "    init = State(R=1000, L=0, E=0,V=100)\n",
    "\n",
    "    t0 = 0\n",
    "    t_end = 120\n",
    "\n",
    "    return System(init=init, t0=t0, t_end=t_end,\n",
    "                  Γ=Γ, τ=τ, μ=μ, β=β, ρ=ρ, α=α, δ=δ, σ=σ, π=π)"
   ]
  },
  {
   "cell_type": "code",
   "execution_count": 4,
   "metadata": {},
   "outputs": [],
   "source": [
    "def plot_results_single(V):\n",
    "    \"\"\"Plot the results of a SIR model.\n",
    "    \n",
    "    V: TimeSeries\n",
    "    \n",
    "    \"\"\"\n",
    "    plot(V, '-', label='Virions')\n",
    "    \n",
    "    decorate(xlabel='Time (days)',\n",
    "             ylabel='Population')"
   ]
  },
  {
   "cell_type": "code",
   "execution_count": 5,
   "metadata": {},
   "outputs": [],
   "source": [
    "def plot_results(R, L, E):\n",
    "    \"\"\"Plot the results of a SIR model.\n",
    "    \n",
    "    R: TimeSeries\n",
    "    L: TimeSeries\n",
    "    E: TimeSeries\n",
    "    V: TimeSeries\n",
    "    \n",
    "    \"\"\"\n",
    "    plot(R, '--', label='Lymphocytes')\n",
    "    plot(L, '-', label='Latently affected cells')\n",
    "    plot(E, '-', label='Actively infected cells')\n",
    "    #plot(V, '-', label='Virions')\n",
    "    \n",
    "    decorate(xlabel='Time (days)',\n",
    "             ylabel='Population')"
   ]
  },
  {
   "cell_type": "code",
   "execution_count": 6,
   "metadata": {},
   "outputs": [],
   "source": [
    "def update_func(state, t, system):\n",
    "    \"\"\"Update the SIR model.\n",
    "    \n",
    "    state: State (R, L, E, V)\n",
    "    t: time\n",
    "    system: System object\n",
    "    \n",
    "    returns: State (RLEV)\n",
    "    \"\"\"\n",
    "    unpack(system)\n",
    "    \n",
    "    r, l, e, v = state\n",
    "\n",
    "    #dr/dt = Γτ - μr - βrv\n",
    "    r_arise = Γ * τ \n",
    "    r_death = μ * r \n",
    "    r_infection = β * r * v\n",
    "    \n",
    "    #dl/dt = ρβRV - μL - αL\n",
    "    l_infection = ρ * β * r * v\n",
    "    l_death = μ * l\n",
    "    l_activation = α * l\n",
    "    \n",
    "    #de/dt = (1-ρ)βRV + αL - δE\n",
    "    e_generation = (1-ρ)* β * r * v #actively infected cells are generated immediately after infection\n",
    "    e_activation = α * l\n",
    "    e_death = δ * e\n",
    "    \n",
    "    #dv/dt = (pi)E - σV  \n",
    "    v_production = π * e\n",
    "    v_death = σ * v\n",
    "    \n",
    "    r += r_arise - r_death - r_infection\n",
    "    l += l_infection - l_death - l_activation\n",
    "    e += e_generation + e_activation - e_death\n",
    "    v += v_production - v_death\n",
    "    \n",
    "    return State(R=r, L=l, E=e, V=v)"
   ]
  },
  {
   "cell_type": "code",
   "execution_count": 7,
   "metadata": {},
   "outputs": [],
   "source": [
    "#slope_func just returns differential equations, doesnt update state\n",
    "#system = make_system(0.333, 0.25)\n",
    "#print(slope_func(system.init, system.t0, system))\n",
    "#results, details = run_ode_solver(system, slope_func, max_step=2)\n",
    "#details\n",
    "#plot_results(results.S, results.I, results.R)"
   ]
  },
  {
   "cell_type": "code",
   "execution_count": 8,
   "metadata": {},
   "outputs": [],
   "source": [
    "def run_simulation(system, update_func):\n",
    "    \"\"\"Runs a simulation of the system.\n",
    "        \n",
    "    system: System object\n",
    "    update_func: function that updates state\n",
    "    \n",
    "    returns: TimeFrame\n",
    "    \"\"\"\n",
    "    unpack(system)\n",
    "    \n",
    "    frame = TimeFrame(columns=init.index)\n",
    "    frame.row[t0] = init\n",
    "    \n",
    "    for t in linrange(t0, t_end):\n",
    "        frame.row[t+1] = update_func(frame.row[t], t, system)\n",
    "    \n",
    "    return frame"
   ]
  },
  {
   "cell_type": "code",
   "execution_count": 9,
   "metadata": {},
   "outputs": [
    {
     "data": {
      "text/html": [
       "<div>\n",
       "<style scoped>\n",
       "    .dataframe tbody tr th:only-of-type {\n",
       "        vertical-align: middle;\n",
       "    }\n",
       "\n",
       "    .dataframe tbody tr th {\n",
       "        vertical-align: top;\n",
       "    }\n",
       "\n",
       "    .dataframe thead th {\n",
       "        text-align: right;\n",
       "    }\n",
       "</style>\n",
       "<table border=\"1\" class=\"dataframe\">\n",
       "  <thead>\n",
       "    <tr style=\"text-align: right;\">\n",
       "      <th></th>\n",
       "      <th>R</th>\n",
       "      <th>L</th>\n",
       "      <th>E</th>\n",
       "      <th>V</th>\n",
       "    </tr>\n",
       "  </thead>\n",
       "  <tbody>\n",
       "    <tr>\n",
       "      <th>0</th>\n",
       "      <td>1000</td>\n",
       "      <td>0</td>\n",
       "      <td>0</td>\n",
       "      <td>100</td>\n",
       "    </tr>\n",
       "    <tr>\n",
       "      <th>1</th>\n",
       "      <td>971.912</td>\n",
       "      <td>2.7</td>\n",
       "      <td>24.3</td>\n",
       "      <td>-100</td>\n",
       "    </tr>\n",
       "    <tr>\n",
       "      <th>2</th>\n",
       "      <td>997.104</td>\n",
       "      <td>-0.0250344</td>\n",
       "      <td>-7.23926</td>\n",
       "      <td>2530</td>\n",
       "    </tr>\n",
       "    <tr>\n",
       "      <th>3</th>\n",
       "      <td>314.898</td>\n",
       "      <td>68.0881</td>\n",
       "      <td>608.158</td>\n",
       "      <td>-3253.93</td>\n",
       "    </tr>\n",
       "    <tr>\n",
       "      <th>4</th>\n",
       "      <td>591.399</td>\n",
       "      <td>37.8786</td>\n",
       "      <td>160.926</td>\n",
       "      <td>64069.8</td>\n",
       "    </tr>\n",
       "  </tbody>\n",
       "</table>\n",
       "</div>"
      ],
      "text/plain": [
       "         R          L        E        V\n",
       "0     1000          0        0      100\n",
       "1  971.912        2.7     24.3     -100\n",
       "2  997.104 -0.0250344 -7.23926     2530\n",
       "3  314.898    68.0881  608.158 -3253.93\n",
       "4  591.399    37.8786  160.926  64069.8"
      ]
     },
     "execution_count": 9,
     "metadata": {},
     "output_type": "execute_result"
    }
   ],
   "source": [
    "system = make_system(1.36, 0.2, 0.00136, 0.00027, 0.1, 0.036, 0.33, 2, 100)\n",
    "#make_system(Γ, τ, μ, β, ρ, α, δ, σ, π)\n",
    "results = run_simulation(system, update_func)\n",
    "results.head()"
   ]
  },
  {
   "cell_type": "code",
   "execution_count": 10,
   "metadata": {},
   "outputs": [
    {
     "data": {
      "image/png": "[encoded data removed]",
      "text/plain": [
       "<Figure size 432x288 with 1 Axes>"
      ]
     },
     "metadata": {
      "needs_background": "light"
     },
     "output_type": "display_data"
    }
   ],
   "source": [
    "plot_results(results.R, results.L, results.E)"
   ]
  },
  {
   "cell_type": "code",
   "execution_count": 11,
   "metadata": {},
   "outputs": [
    {
     "data": {
      "image/png": "[encoded data removed]",
      "text/plain": [
       "<Figure size 432x288 with 1 Axes>"
      ]
     },
     "metadata": {
      "needs_background": "light"
     },
     "output_type": "display_data"
    }
   ],
   "source": [
    "plot_results_single(results.V)"
   ]
  },
  {
   "cell_type": "code",
   "execution_count": null,
   "metadata": {},
   "outputs": [],
   "source": []
  }
 ],
 "metadata": {
  "kernelspec": {
   "display_name": "Python 3",
   "language": "python",
   "name": "python3"
  },
  "language_info": {
   "codemirror_mode": {
    "name": "ipython",
    "version": 3
   },
   "file_extension": ".py",
   "mimetype": "text/x-python",
   "name": "python",
   "nbconvert_exporter": "python",
   "pygments_lexer": "ipython3",
   "version": "3.6.6"
  }
 },
 "nbformat": 4,
 "nbformat_minor": 2
}
